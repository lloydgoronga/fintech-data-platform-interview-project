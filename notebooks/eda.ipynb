# In the first cell: Import libraries and set up the database connection
import os
import pandas as pd
import matplotlib.pyplot as plt
import seaborn as sns
from sqlalchemy import create_engine
from dotenv import load_dotenv

# Load environment variables
load_dotenv()

# Set plot style
sns.set_theme(style="whitegrid")

# Database connection
DWH_DB_USER = os.getenv('DWH_DB_USER')
DWH_DB_PASSWORD = os.getenv('DWH_DB_PASSWORD')
DWH_DB_HOST = os.getenv('DWH_DB_HOST')
DWH_DB_PORT = os.getenv('DWH_DB_PORT')
DWH_DB_NAME = os.getenv('DWH_DB_NAME')

dwh_engine = create_engine(f"postgresql://{DWH_DB_USER}:{DWH_DB_PASSWORD}@{DWH_DB_HOST}:{DWH_DB_PORT}/{DWH_DB_NAME}")

print("Connection to Data Warehouse established.")
```python
# In the second cell: Load all data from the warehouse into a single DataFrame
# We use a comprehensive SQL query with JOINs to create a flat table for analysis.

query = """
SELECT
    f.amount,
    d.full_date,
    d.day_name,
    d.month_name,
    d.year,
    c.first_name,
    m.merchant_name,
    m.category
FROM fact_transactions f
JOIN dim_date d ON f.date_key = d.date_key
JOIN dim_customer c ON f.customer_key = c.customer_key
JOIN dim_merchant m ON f.merchant_key = m.merchant_key;
"""

df = pd.read_sql(query, dwh_engine)
df['full_date'] = pd.to_datetime(df['full_date'])

print("Data loaded successfully. Here's a preview:")
df.head()
```python
# In the third cell: Basic statistics and distribution of transaction amounts

print("--- Descriptive Statistics for Transaction Amount ---")
print(df['amount'].describe())

plt.figure(figsize=(12, 6))
sns.histplot(df['amount'], bins=50, kde=True)
plt.title('Distribution of Transaction Amounts', fontsize=16)
plt.xlabel('Amount')
plt.ylabel('Frequency')
plt.show()
```python
# In the fourth cell: Analyze total spending by merchant category
category_spending = df.groupby('category')['amount'].sum().sort_values(ascending=False)

print("\n--- Total Spending by Merchant Category ---")
print(category_spending)

plt.figure(figsize=(12, 7))
sns.barplot(x=category_spending.index, y=category_spending.values)
plt.title('Total Spending by Merchant Category', fontsize=16)
plt.xlabel('Category')
plt.ylabel('Total Amount Spent')
plt.xticks(rotation=45)
plt.show()
```

---
### **Part 2: Real-Time Streaming Dashboard**

**Goal:** Build a live web page that plots transactions from the Redis stream as they arrive.

#### **Action 1: Install New Dependencies**

We need libraries for the web server and WebSockets.
1.  In your VS Code terminal (with `(venv)` active), run:
    ```sh
    pip install Flask Flask-SocketIO
    ```
2.  Add these new libraries to your `requirements.txt` file so it's up to date.

#### **Action 2: Create the Dashboard Backend**

This Flask application will serve the webpage and manage the real-time data push.
1.  Create a new folder in your project root named `dashboard`.
2.  Inside the `dashboard` folder, create a new file named `app.py`.
3.  Paste the code from the document below into `app.py`.


```python
import os
import redis
import json
import logging
from threading import Thread
from flask import Flask, render_template
from flask_socketio import SocketIO
from dotenv import load_dotenv

# --- SETUP ---
load_dotenv()
logging.basicConfig(level=logging.INFO)

app = Flask(__name__)
# The secret key is needed for session management by SocketIO
app.config['SECRET_KEY'] = 'your-secret-key!' 
socketio = SocketIO(app, cors_allowed_origins="*")

# --- REDIS BACKGROUND THREAD ---
# This part of the code will run in the background, listening to Redis
# and pushing data to the web clients via WebSockets.

def redis_listener():
    """Listens to Redis and broadcasts messages to clients."""
    r = redis.Redis(host=os.getenv('REDIS_HOST'), port=int(os.getenv('REDIS_PORT')), db=0)
    pubsub = r.pubsub()
    pubsub.subscribe('financial_transactions')
    logging.info("Subscribed to Redis channel and listening for messages...")

    for message in pubsub.listen():
        if message['type'] == 'message':
            data = message['data'].decode('utf-8')
            # The 'emit' function sends an event to all connected web clients.
            # We name our event 'new_transaction'.
            socketio.emit('new_transaction', data)
            logging.info(f"Broadcasted to dashboard: {data}")

# --- FLASK ROUTES ---
@app.route('/')
def index():
    """Serves the main dashboard page."""
    return render_template('index.html')

# --- MAIN EXECUTION ---
if __name__ == '__main__':
    # Start the Redis listener in a separate thread so it doesn't block the web server.
    listener_thread = Thread(target=redis_listener, daemon=True)
    listener_thread.start()
    
    # Start the Flask-SocketIO web server.
    logging.info("Starting Flask-SocketIO server...")
    # Use allow_unsafe_werkzeug=True for newer versions of Werkzeug
    socketio.run(app, host='0.0.0.0', port=5001, debug=True, allow_unsafe_werkzeug=True)
